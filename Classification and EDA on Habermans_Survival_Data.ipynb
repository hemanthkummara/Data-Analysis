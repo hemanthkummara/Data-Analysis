{
 "cells": [
  {
   "cell_type": "markdown",
   "metadata": {
    "colab_type": "text",
    "id": "mQFbageR7eSe"
   },
   "source": [
    "# Exploratory data analysis (EDA) and Classification"
   ]
  },
  {
   "cell_type": "markdown",
   "metadata": {
    "colab_type": "text",
    "id": "IYm45v1y7eSj"
   },
   "source": [
    "## Cancer survival_dataset"
   ]
  },
  {
   "cell_type": "markdown",
   "metadata": {
    "colab_type": "text",
    "id": "iW8l_61b7eSk"
   },
   "source": [
    "Haberman, S. J. (1976). Generalized Residuals for Log-Linear Models, Proceedings of the 9th International Biometrics Conference, Boston, pp. 104-122. Landwehr, J. M., Pregibon, D., and Shoemaker, A. C. (1984), Graphical Models for Assessing Logistic Regression Models (with discussion), Journal of the American Statistical Association 79: 61-83. Lo, W.-D. (1993). Logistic Regression Trees, PhD thesis, Department of Statistics, University of Wisconsin, Madison, WI. Relevant Information: The dataset contains cases from a study that was conducted between 1958 and 1970 at the University of Chicago's Billings Hospital on the survival of patients who had undergone surgery for breast cancer.\n",
    "\n",
    "Number of Instances: 306\n",
    "Number of Attributes: 4 (including the class attribute)\n",
    "Attribute Information:\n",
    "Age of patient at time of operation (numerical)\n",
    "Patients year of operation (year - 1900, numerical)\n",
    "Number of positive axillary nodes detected (numerical)\n",
    "Survival status (class attribute) 1 = the patient survived 5 years or longer 2 = the patient died within 5 year\n",
    "Missing Attribute Values: None\n",
    "\n"
   ]
  },
  {
   "cell_type": "code",
   "execution_count": 9,
   "metadata": {
    "colab": {},
    "colab_type": "code",
    "id": "p2oKsGVW7eSm"
   },
   "outputs": [],
   "source": [
    "import pandas as pd\n",
    "import seaborn as sns\n",
    "import matplotlib.pyplot as plt\n",
    "import numpy as np\n",
    "'''\n",
    "https://www.kaggle.com/saguneshgrover/habermans-survival-data-set-eda/data\n",
    "'''\n",
    "\n",
    "#Load haberman.csv into a pandas dataFrame.\n",
    "cancer = pd.read_csv(\"haberman.csv\")\n",
    "\n"
   ]
  },
  {
   "cell_type": "code",
   "execution_count": 10,
   "metadata": {
    "colab": {},
    "colab_type": "code",
    "id": "qs8rT4Up7eSz",
    "outputId": "376f286f-2e9e-4df1-d145-aba2dc4b5c3c"
   },
   "outputs": [
    {
     "name": "stdout",
     "output_type": "stream",
     "text": [
      "(306, 4)\n"
     ]
    }
   ],
   "source": [
    "# (Q) how many data-points and features?\n",
    "print (cancer.shape)"
   ]
  },
  {
   "cell_type": "code",
   "execution_count": 11,
   "metadata": {},
   "outputs": [
    {
     "data": {
      "text/html": [
       "<div>\n",
       "<style scoped>\n",
       "    .dataframe tbody tr th:only-of-type {\n",
       "        vertical-align: middle;\n",
       "    }\n",
       "\n",
       "    .dataframe tbody tr th {\n",
       "        vertical-align: top;\n",
       "    }\n",
       "\n",
       "    .dataframe thead th {\n",
       "        text-align: right;\n",
       "    }\n",
       "</style>\n",
       "<table border=\"1\" class=\"dataframe\">\n",
       "  <thead>\n",
       "    <tr style=\"text-align: right;\">\n",
       "      <th></th>\n",
       "      <th>Age</th>\n",
       "      <th>year</th>\n",
       "      <th>positive_axillary_nodes</th>\n",
       "      <th>survival_status</th>\n",
       "    </tr>\n",
       "  </thead>\n",
       "  <tbody>\n",
       "    <tr>\n",
       "      <th>0</th>\n",
       "      <td>30</td>\n",
       "      <td>64</td>\n",
       "      <td>1</td>\n",
       "      <td>1</td>\n",
       "    </tr>\n",
       "    <tr>\n",
       "      <th>1</th>\n",
       "      <td>30</td>\n",
       "      <td>62</td>\n",
       "      <td>3</td>\n",
       "      <td>1</td>\n",
       "    </tr>\n",
       "    <tr>\n",
       "      <th>2</th>\n",
       "      <td>30</td>\n",
       "      <td>65</td>\n",
       "      <td>0</td>\n",
       "      <td>1</td>\n",
       "    </tr>\n",
       "    <tr>\n",
       "      <th>3</th>\n",
       "      <td>31</td>\n",
       "      <td>59</td>\n",
       "      <td>2</td>\n",
       "      <td>1</td>\n",
       "    </tr>\n",
       "    <tr>\n",
       "      <th>4</th>\n",
       "      <td>31</td>\n",
       "      <td>65</td>\n",
       "      <td>4</td>\n",
       "      <td>1</td>\n",
       "    </tr>\n",
       "  </tbody>\n",
       "</table>\n",
       "</div>"
      ],
      "text/plain": [
       "   Age  year  positive_axillary_nodes  survival_status\n",
       "0   30    64                        1                1\n",
       "1   30    62                        3                1\n",
       "2   30    65                        0                1\n",
       "3   31    59                        2                1\n",
       "4   31    65                        4                1"
      ]
     },
     "execution_count": 11,
     "metadata": {},
     "output_type": "execute_result"
    }
   ],
   "source": [
    "cancer.head()"
   ]
  },
  {
   "cell_type": "code",
   "execution_count": 12,
   "metadata": {
    "colab": {},
    "colab_type": "code",
    "id": "3RT2Gdlq7eTC",
    "outputId": "9e162731-b25e-4169-97eb-a66b9c6df076",
    "scrolled": true
   },
   "outputs": [
    {
     "name": "stdout",
     "output_type": "stream",
     "text": [
      "Index(['Age', 'year', 'positive_axillary_nodes', 'survival_status'], dtype='object')\n"
     ]
    }
   ],
   "source": [
    "#(Q) What are the column names in our dataset?\n",
    "print (cancer.columns)"
   ]
  },
  {
   "cell_type": "code",
   "execution_count": 14,
   "metadata": {
    "colab": {},
    "colab_type": "code",
    "id": "4ARdqlVj7eTH",
    "outputId": "c8b7c898-35af-4328-e91e-393d5ce361a1"
   },
   "outputs": [
    {
     "data": {
      "text/plain": [
       "1    225\n",
       "2     81\n",
       "Name: survival_status, dtype: int64"
      ]
     },
     "execution_count": 14,
     "metadata": {},
     "output_type": "execute_result"
    }
   ],
   "source": [
    "#(Q) How many data points for each class are present? \n",
    "#(or) How many patients for each species are present?\n",
    "\n",
    "cancer[\"survival_status\"].value_counts()\n",
    "# balanced-dataset vs imbalanced datasets\n",
    "#habermans data is a imbalanced dataset as the number of data points for every class is 225,81."
   ]
  },
  {
   "cell_type": "code",
   "execution_count": 16,
   "metadata": {},
   "outputs": [
    {
     "data": {
      "text/plain": [
       "52    14\n",
       "54    13\n",
       "50    12\n",
       "47    11\n",
       "53    11\n",
       "43    11\n",
       "57    11\n",
       "55    10\n",
       "65    10\n",
       "49    10\n",
       "38    10\n",
       "41    10\n",
       "61     9\n",
       "45     9\n",
       "42     9\n",
       "63     8\n",
       "59     8\n",
       "62     7\n",
       "44     7\n",
       "58     7\n",
       "56     7\n",
       "46     7\n",
       "70     7\n",
       "34     7\n",
       "48     7\n",
       "37     6\n",
       "67     6\n",
       "60     6\n",
       "51     6\n",
       "39     6\n",
       "66     5\n",
       "64     5\n",
       "72     4\n",
       "69     4\n",
       "40     3\n",
       "30     3\n",
       "68     2\n",
       "73     2\n",
       "74     2\n",
       "36     2\n",
       "35     2\n",
       "33     2\n",
       "31     2\n",
       "78     1\n",
       "71     1\n",
       "75     1\n",
       "76     1\n",
       "77     1\n",
       "83     1\n",
       "Name: Age, dtype: int64"
      ]
     },
     "execution_count": 16,
     "metadata": {},
     "output_type": "execute_result"
    }
   ],
   "source": [
    "cancer[\"Age\"].value_counts()"
   ]
  },
  {
   "cell_type": "code",
   "execution_count": 17,
   "metadata": {},
   "outputs": [
    {
     "data": {
      "text/plain": [
       "0     136\n",
       "1      41\n",
       "2      20\n",
       "3      20\n",
       "4      13\n",
       "6       7\n",
       "7       7\n",
       "8       7\n",
       "5       6\n",
       "9       6\n",
       "13      5\n",
       "14      4\n",
       "11      4\n",
       "10      3\n",
       "15      3\n",
       "19      3\n",
       "22      3\n",
       "23      3\n",
       "12      2\n",
       "20      2\n",
       "46      1\n",
       "16      1\n",
       "17      1\n",
       "18      1\n",
       "21      1\n",
       "24      1\n",
       "25      1\n",
       "28      1\n",
       "30      1\n",
       "35      1\n",
       "52      1\n",
       "Name: positive_axillary_nodes, dtype: int64"
      ]
     },
     "execution_count": 17,
     "metadata": {},
     "output_type": "execute_result"
    }
   ],
   "source": [
    "cancer[\"positive_axillary_nodes\"].value_counts()"
   ]
  },
  {
   "cell_type": "markdown",
   "metadata": {
    "colab_type": "text",
    "id": "uExhLJ1-7eTT"
   },
   "source": [
    "# (3.2) 2-D Scatter Plot"
   ]
  },
  {
   "cell_type": "code",
   "execution_count": 15,
   "metadata": {
    "colab": {},
    "colab_type": "code",
    "id": "m8fu7kKy7eTU",
    "outputId": "201c4f80-4071-4e22-db53-402547ccb725",
    "scrolled": false
   },
   "outputs": [
    {
     "data": {
      "image/png": "[encoded data removed]",
      "text/plain": [
       "<matplotlib.figure.Figure at 0x1da784f6780>"
      ]
     },
     "metadata": {},
     "output_type": "display_data"
    }
   ],
   "source": [
    "#2-D scatter plot:\n",
    "#ALWAYS understand the axis: labels and scale.\n",
    "\n",
    "cancer.plot(kind='scatter', x='Age', y='positive_axillary_nodes') ;\n",
    "plt.show()\n",
    "\n",
    "#cannot make much sense out it. \n",
    "#What if we color the points by thier class-label/flower-type."
   ]
  },
  {
   "cell_type": "code",
   "execution_count": 23,
   "metadata": {
    "colab": {},
    "colab_type": "code",
    "id": "RyusT9e47eUb",
    "outputId": "0cf8dda7-ece7-4fcc-f9a6-7306c0525ffa"
   },
   "outputs": [
    {
     "data": {
      "image/png": "[encoded data removed]",
      "text/plain": [
       "<matplotlib.figure.Figure at 0x1da7898ec50>"
      ]
     },
     "metadata": {},
     "output_type": "display_data"
    }
   ],
   "source": [
    "sns.FacetGrid(cancer,hue=\"survival_status\",size=5)\\\n",
    "    .map(sns.distplot,\"year\")\\\n",
    "    .add_legend()\n",
    "plt.show()"
   ]
  },
  {
   "cell_type": "code",
   "execution_count": 25,
   "metadata": {},
   "outputs": [
    {
     "data": {
      "image/png": "[encoded data removed]",
      "text/plain": [
       "<matplotlib.figure.Figure at 0x1da785aab00>"
      ]
     },
     "metadata": {},
     "output_type": "display_data"
    }
   ],
   "source": [
    "sns.boxplot(x = 'survival_status',y = 'year',data = cancer)\n",
    "plt.show()"
   ]
  },
  {
   "cell_type": "code",
   "execution_count": 26,
   "metadata": {},
   "outputs": [
    {
     "data": {
      "image/png": "[encoded data removed]",
      "text/plain": [
       "<matplotlib.figure.Figure at 0x1da78b820f0>"
      ]
     },
     "metadata": {},
     "output_type": "display_data"
    }
   ],
   "source": [
    "sns.boxplot(x = 'survival_status',y = 'Age',data = cancer)\n",
    "plt.show()"
   ]
  },
  {
   "cell_type": "code",
   "execution_count": 36,
   "metadata": {},
   "outputs": [
    {
     "data": {
      "image/png": "[encoded data removed]",
      "text/plain": [
       "<matplotlib.figure.Figure at 0x1da78c2a898>"
      ]
     },
     "metadata": {},
     "output_type": "display_data"
    }
   ],
   "source": [
    "sns.boxplot(x = 'survival_status',y = 'positive_axillary_nodes',data = cancer)\n",
    "plt.show()"
   ]
  },
  {
   "cell_type": "markdown",
   "metadata": {},
   "source": [
    "Pair-Plots"
   ]
  },
  {
   "cell_type": "code",
   "execution_count": 37,
   "metadata": {},
   "outputs": [
    {
     "data": {
      "image/png": "[encoded data removed]",
      "text/plain": [
       "<matplotlib.figure.Figure at 0x1da78c93748>"
      ]
     },
     "metadata": {},
     "output_type": "display_data"
    }
   ],
   "source": [
    "plt.close();\n",
    "sns.set_style(\"whitegrid\");\n",
    "sns.pairplot(cancer,hue=\"survival_status\",size=3)\n",
    "plt.show()"
   ]
  },
  {
   "cell_type": "markdown",
   "metadata": {},
   "source": [
    "Positive_axillary_nodes is a useful feature to identify the survival_status of cancer patients\n",
    "Age and Year of operation have overlapping curves so we can't have a suitable observation that can classify survival_status"
   ]
  },
  {
   "cell_type": "markdown",
   "metadata": {},
   "source": [
    "# Mean"
   ]
  },
  {
   "cell_type": "code",
   "execution_count": 42,
   "metadata": {},
   "outputs": [],
   "source": [
    "#cancer is the name of the data frame\n",
    "less_five = cancer[cancer['survival_status']==2]\n",
    "more_five = cancer[cancer['survival_status']==1]\n",
    "\n"
   ]
  },
  {
   "cell_type": "code",
   "execution_count": 43,
   "metadata": {},
   "outputs": [
    {
     "name": "stdout",
     "output_type": "stream",
     "text": [
      "Age                        53.679012\n",
      "year                       62.827160\n",
      "positive_axillary_nodes     7.456790\n",
      "survival_status             2.000000\n",
      "dtype: float64\n"
     ]
    }
   ],
   "source": [
    "print(np.mean(less_five))"
   ]
  },
  {
   "cell_type": "code",
   "execution_count": 44,
   "metadata": {},
   "outputs": [
    {
     "name": "stdout",
     "output_type": "stream",
     "text": [
      "Age                        52.017778\n",
      "year                       62.862222\n",
      "positive_axillary_nodes     2.791111\n",
      "survival_status             1.000000\n",
      "dtype: float64\n"
     ]
    }
   ],
   "source": [
    "print(np.mean(more_five))"
   ]
  },
  {
   "cell_type": "markdown",
   "metadata": {},
   "source": [
    "Mean age of patients who survived more than 5 years is 52 years and who didn't survive is 54 years\n",
    "Those having more than 3 positive_axillary_nodes they have not survived more than 5 years\n",
    "Those having less than 3 positive_axillary_nodes they have survived more than 5 years after the operation"
   ]
  },
  {
   "cell_type": "code",
   "execution_count": 45,
   "metadata": {},
   "outputs": [
    {
     "data": {
      "text/html": [
       "<div>\n",
       "<style scoped>\n",
       "    .dataframe tbody tr th:only-of-type {\n",
       "        vertical-align: middle;\n",
       "    }\n",
       "\n",
       "    .dataframe tbody tr th {\n",
       "        vertical-align: top;\n",
       "    }\n",
       "\n",
       "    .dataframe thead th {\n",
       "        text-align: right;\n",
       "    }\n",
       "</style>\n",
       "<table border=\"1\" class=\"dataframe\">\n",
       "  <thead>\n",
       "    <tr style=\"text-align: right;\">\n",
       "      <th></th>\n",
       "      <th>Age</th>\n",
       "      <th>year</th>\n",
       "      <th>positive_axillary_nodes</th>\n",
       "      <th>survival_status</th>\n",
       "    </tr>\n",
       "  </thead>\n",
       "  <tbody>\n",
       "    <tr>\n",
       "      <th>0</th>\n",
       "      <td>30</td>\n",
       "      <td>64</td>\n",
       "      <td>1</td>\n",
       "      <td>1</td>\n",
       "    </tr>\n",
       "    <tr>\n",
       "      <th>1</th>\n",
       "      <td>30</td>\n",
       "      <td>62</td>\n",
       "      <td>3</td>\n",
       "      <td>1</td>\n",
       "    </tr>\n",
       "    <tr>\n",
       "      <th>2</th>\n",
       "      <td>30</td>\n",
       "      <td>65</td>\n",
       "      <td>0</td>\n",
       "      <td>1</td>\n",
       "    </tr>\n",
       "    <tr>\n",
       "      <th>3</th>\n",
       "      <td>31</td>\n",
       "      <td>59</td>\n",
       "      <td>2</td>\n",
       "      <td>1</td>\n",
       "    </tr>\n",
       "    <tr>\n",
       "      <th>4</th>\n",
       "      <td>31</td>\n",
       "      <td>65</td>\n",
       "      <td>4</td>\n",
       "      <td>1</td>\n",
       "    </tr>\n",
       "  </tbody>\n",
       "</table>\n",
       "</div>"
      ],
      "text/plain": [
       "   Age  year  positive_axillary_nodes  survival_status\n",
       "0   30    64                        1                1\n",
       "1   30    62                        3                1\n",
       "2   30    65                        0                1\n",
       "3   31    59                        2                1\n",
       "4   31    65                        4                1"
      ]
     },
     "execution_count": 45,
     "metadata": {},
     "output_type": "execute_result"
    }
   ],
   "source": [
    "cancer.head()"
   ]
  },
  {
   "cell_type": "code",
   "execution_count": 46,
   "metadata": {},
   "outputs": [],
   "source": [
    "dataset = pd.read_csv('haberman.csv')\n",
    "X = dataset.iloc[:, :-1].values\n",
    "y = dataset.iloc[:, 3].values"
   ]
  },
  {
   "cell_type": "code",
   "execution_count": 47,
   "metadata": {},
   "outputs": [
    {
     "data": {
      "text/plain": [
       "array([1, 1, 1, 1, 1, 1, 1, 2, 2, 1, 1, 1, 1, 1, 1, 1, 1, 1, 1, 1, 1, 1,\n",
       "       1, 1, 2, 1, 1, 1, 1, 1, 1, 1, 1, 1, 2, 1, 1, 1, 1, 1, 1, 1, 1, 2,\n",
       "       2, 2, 1, 1, 1, 1, 1, 1, 1, 2, 2, 1, 1, 1, 1, 1, 1, 1, 2, 2, 2, 2,\n",
       "       1, 1, 1, 1, 1, 1, 1, 2, 2, 2, 1, 1, 1, 1, 2, 2, 2, 1, 1, 1, 1, 1,\n",
       "       1, 2, 2, 2, 2, 1, 1, 1, 2, 2, 2, 1, 1, 1, 1, 1, 1, 1, 1, 2, 2, 2,\n",
       "       1, 1, 1, 1, 2, 2, 1, 1, 1, 1, 1, 1, 1, 1, 2, 2, 1, 1, 1, 1, 1, 1,\n",
       "       1, 1, 1, 1, 2, 2, 1, 1, 1, 1, 2, 2, 2, 2, 1, 1, 1, 1, 1, 1, 1, 1,\n",
       "       1, 1, 2, 2, 2, 2, 2, 2, 1, 1, 1, 1, 1, 2, 2, 2, 2, 1, 1, 1, 1, 1,\n",
       "       1, 1, 1, 1, 2, 2, 1, 1, 1, 1, 1, 1, 1, 1, 2, 2, 1, 1, 1, 1, 1, 2,\n",
       "       2, 2, 1, 1, 1, 1, 1, 1, 1, 1, 1, 1, 1, 1, 1, 1, 1, 2, 1, 1, 1, 1,\n",
       "       1, 1, 1, 2, 2, 1, 1, 1, 1, 2, 2, 2, 1, 1, 1, 1, 1, 1, 2, 2, 2, 1,\n",
       "       1, 1, 1, 2, 1, 1, 1, 1, 1, 1, 1, 1, 1, 1, 1, 1, 2, 2, 2, 2, 1, 1,\n",
       "       1, 1, 1, 1, 2, 2, 1, 1, 1, 2, 2, 1, 1, 1, 1, 1, 1, 2, 1, 1, 1, 2,\n",
       "       2, 1, 1, 1, 1, 1, 1, 2, 1, 1, 1, 1, 1, 2, 1, 1, 1, 1, 2, 2],\n",
       "      dtype=int64)"
      ]
     },
     "execution_count": 47,
     "metadata": {},
     "output_type": "execute_result"
    }
   ],
   "source": [
    "y"
   ]
  },
  {
   "cell_type": "code",
   "execution_count": 48,
   "metadata": {},
   "outputs": [
    {
     "data": {
      "text/plain": [
       "array([[30, 64,  1],\n",
       "       [30, 62,  3],\n",
       "       [30, 65,  0],\n",
       "       [31, 59,  2],\n",
       "       [31, 65,  4],\n",
       "       [33, 58, 10],\n",
       "       [33, 60,  0],\n",
       "       [34, 59,  0],\n",
       "       [34, 66,  9],\n",
       "       [34, 58, 30],\n",
       "       [34, 60,  1],\n",
       "       [34, 61, 10],\n",
       "       [34, 67,  7],\n",
       "       [34, 60,  0],\n",
       "       [35, 64, 13],\n",
       "       [35, 63,  0],\n",
       "       [36, 60,  1],\n",
       "       [36, 69,  0],\n",
       "       [37, 60,  0],\n",
       "       [37, 63,  0],\n",
       "       [37, 58,  0],\n",
       "       [37, 59,  6],\n",
       "       [37, 60, 15],\n",
       "       [37, 63,  0],\n",
       "       [38, 69, 21],\n",
       "       [38, 59,  2],\n",
       "       [38, 60,  0],\n",
       "       [38, 60,  0],\n",
       "       [38, 62,  3],\n",
       "       [38, 64,  1],\n",
       "       [38, 66,  0],\n",
       "       [38, 66, 11],\n",
       "       [38, 60,  1],\n",
       "       [38, 67,  5],\n",
       "       [39, 66,  0],\n",
       "       [39, 63,  0],\n",
       "       [39, 67,  0],\n",
       "       [39, 58,  0],\n",
       "       [39, 59,  2],\n",
       "       [39, 63,  4],\n",
       "       [40, 58,  2],\n",
       "       [40, 58,  0],\n",
       "       [40, 65,  0],\n",
       "       [41, 60, 23],\n",
       "       [41, 64,  0],\n",
       "       [41, 67,  0],\n",
       "       [41, 58,  0],\n",
       "       [41, 59,  8],\n",
       "       [41, 59,  0],\n",
       "       [41, 64,  0],\n",
       "       [41, 69,  8],\n",
       "       [41, 65,  0],\n",
       "       [41, 65,  0],\n",
       "       [42, 69,  1],\n",
       "       [42, 59,  0],\n",
       "       [42, 58,  0],\n",
       "       [42, 60,  1],\n",
       "       [42, 59,  2],\n",
       "       [42, 61,  4],\n",
       "       [42, 62, 20],\n",
       "       [42, 65,  0],\n",
       "       [42, 63,  1],\n",
       "       [43, 58, 52],\n",
       "       [43, 59,  2],\n",
       "       [43, 64,  0],\n",
       "       [43, 64,  0],\n",
       "       [43, 63, 14],\n",
       "       [43, 64,  2],\n",
       "       [43, 64,  3],\n",
       "       [43, 60,  0],\n",
       "       [43, 63,  2],\n",
       "       [43, 65,  0],\n",
       "       [43, 66,  4],\n",
       "       [44, 64,  6],\n",
       "       [44, 58,  9],\n",
       "       [44, 63, 19],\n",
       "       [44, 61,  0],\n",
       "       [44, 63,  1],\n",
       "       [44, 61,  0],\n",
       "       [44, 67, 16],\n",
       "       [45, 65,  6],\n",
       "       [45, 66,  0],\n",
       "       [45, 67,  1],\n",
       "       [45, 60,  0],\n",
       "       [45, 67,  0],\n",
       "       [45, 59, 14],\n",
       "       [45, 64,  0],\n",
       "       [45, 68,  0],\n",
       "       [45, 67,  1],\n",
       "       [46, 58,  2],\n",
       "       [46, 69,  3],\n",
       "       [46, 62,  5],\n",
       "       [46, 65, 20],\n",
       "       [46, 62,  0],\n",
       "       [46, 58,  3],\n",
       "       [46, 63,  0],\n",
       "       [47, 63, 23],\n",
       "       [47, 62,  0],\n",
       "       [47, 65,  0],\n",
       "       [47, 61,  0],\n",
       "       [47, 63,  6],\n",
       "       [47, 66,  0],\n",
       "       [47, 67,  0],\n",
       "       [47, 58,  3],\n",
       "       [47, 60,  4],\n",
       "       [47, 68,  4],\n",
       "       [47, 66, 12],\n",
       "       [48, 58, 11],\n",
       "       [48, 58, 11],\n",
       "       [48, 67,  7],\n",
       "       [48, 61,  8],\n",
       "       [48, 62,  2],\n",
       "       [48, 64,  0],\n",
       "       [48, 66,  0],\n",
       "       [49, 63,  0],\n",
       "       [49, 64, 10],\n",
       "       [49, 61,  1],\n",
       "       [49, 62,  0],\n",
       "       [49, 66,  0],\n",
       "       [49, 60,  1],\n",
       "       [49, 62,  1],\n",
       "       [49, 63,  3],\n",
       "       [49, 61,  0],\n",
       "       [49, 67,  1],\n",
       "       [50, 63, 13],\n",
       "       [50, 64,  0],\n",
       "       [50, 59,  0],\n",
       "       [50, 61,  6],\n",
       "       [50, 61,  0],\n",
       "       [50, 63,  1],\n",
       "       [50, 58,  1],\n",
       "       [50, 59,  2],\n",
       "       [50, 61,  0],\n",
       "       [50, 64,  0],\n",
       "       [50, 65,  4],\n",
       "       [50, 66,  1],\n",
       "       [51, 59, 13],\n",
       "       [51, 59,  3],\n",
       "       [51, 64,  7],\n",
       "       [51, 59,  1],\n",
       "       [51, 65,  0],\n",
       "       [51, 66,  1],\n",
       "       [52, 69,  3],\n",
       "       [52, 59,  2],\n",
       "       [52, 62,  3],\n",
       "       [52, 66,  4],\n",
       "       [52, 61,  0],\n",
       "       [52, 63,  4],\n",
       "       [52, 69,  0],\n",
       "       [52, 60,  4],\n",
       "       [52, 60,  5],\n",
       "       [52, 62,  0],\n",
       "       [52, 62,  1],\n",
       "       [52, 64,  0],\n",
       "       [52, 65,  0],\n",
       "       [52, 68,  0],\n",
       "       [53, 58,  4],\n",
       "       [53, 65,  1],\n",
       "       [53, 59,  3],\n",
       "       [53, 60,  9],\n",
       "       [53, 63, 24],\n",
       "       [53, 65, 12],\n",
       "       [53, 58,  1],\n",
       "       [53, 60,  1],\n",
       "       [53, 60,  2],\n",
       "       [53, 61,  1],\n",
       "       [53, 63,  0],\n",
       "       [54, 60, 11],\n",
       "       [54, 65, 23],\n",
       "       [54, 65,  5],\n",
       "       [54, 68,  7],\n",
       "       [54, 59,  7],\n",
       "       [54, 60,  3],\n",
       "       [54, 66,  0],\n",
       "       [54, 67, 46],\n",
       "       [54, 62,  0],\n",
       "       [54, 69,  7],\n",
       "       [54, 63, 19],\n",
       "       [54, 58,  1],\n",
       "       [54, 62,  0],\n",
       "       [55, 63,  6],\n",
       "       [55, 68, 15],\n",
       "       [55, 58,  1],\n",
       "       [55, 58,  0],\n",
       "       [55, 58,  1],\n",
       "       [55, 66, 18],\n",
       "       [55, 66,  0],\n",
       "       [55, 69,  3],\n",
       "       [55, 69, 22],\n",
       "       [55, 67,  1],\n",
       "       [56, 65,  9],\n",
       "       [56, 66,  3],\n",
       "       [56, 60,  0],\n",
       "       [56, 66,  2],\n",
       "       [56, 66,  1],\n",
       "       [56, 67,  0],\n",
       "       [56, 60,  0],\n",
       "       [57, 61,  5],\n",
       "       [57, 62, 14],\n",
       "       [57, 64,  1],\n",
       "       [57, 64,  9],\n",
       "       [57, 69,  0],\n",
       "       [57, 61,  0],\n",
       "       [57, 62,  0],\n",
       "       [57, 63,  0],\n",
       "       [57, 64,  0],\n",
       "       [57, 64,  0],\n",
       "       [57, 67,  0],\n",
       "       [58, 59,  0],\n",
       "       [58, 60,  3],\n",
       "       [58, 61,  1],\n",
       "       [58, 67,  0],\n",
       "       [58, 58,  0],\n",
       "       [58, 58,  3],\n",
       "       [58, 61,  2],\n",
       "       [59, 62, 35],\n",
       "       [59, 60,  0],\n",
       "       [59, 63,  0],\n",
       "       [59, 64,  1],\n",
       "       [59, 64,  4],\n",
       "       [59, 64,  0],\n",
       "       [59, 64,  7],\n",
       "       [59, 67,  3],\n",
       "       [60, 59, 17],\n",
       "       [60, 65,  0],\n",
       "       [60, 61,  1],\n",
       "       [60, 67,  2],\n",
       "       [60, 61, 25],\n",
       "       [60, 64,  0],\n",
       "       [61, 62,  5],\n",
       "       [61, 65,  0],\n",
       "       [61, 68,  1],\n",
       "       [61, 59,  0],\n",
       "       [61, 59,  0],\n",
       "       [61, 64,  0],\n",
       "       [61, 65,  8],\n",
       "       [61, 68,  0],\n",
       "       [61, 59,  0],\n",
       "       [62, 59, 13],\n",
       "       [62, 58,  0],\n",
       "       [62, 65, 19],\n",
       "       [62, 62,  6],\n",
       "       [62, 66,  0],\n",
       "       [62, 66,  0],\n",
       "       [62, 58,  0],\n",
       "       [63, 60,  1],\n",
       "       [63, 61,  0],\n",
       "       [63, 62,  0],\n",
       "       [63, 63,  0],\n",
       "       [63, 63,  0],\n",
       "       [63, 66,  0],\n",
       "       [63, 61,  9],\n",
       "       [63, 61, 28],\n",
       "       [64, 58,  0],\n",
       "       [64, 65, 22],\n",
       "       [64, 66,  0],\n",
       "       [64, 61,  0],\n",
       "       [64, 68,  0],\n",
       "       [65, 58,  0],\n",
       "       [65, 61,  2],\n",
       "       [65, 62, 22],\n",
       "       [65, 66, 15],\n",
       "       [65, 58,  0],\n",
       "       [65, 64,  0],\n",
       "       [65, 67,  0],\n",
       "       [65, 59,  2],\n",
       "       [65, 64,  0],\n",
       "       [65, 67,  1],\n",
       "       [66, 58,  0],\n",
       "       [66, 61, 13],\n",
       "       [66, 58,  0],\n",
       "       [66, 58,  1],\n",
       "       [66, 68,  0],\n",
       "       [67, 64,  8],\n",
       "       [67, 63,  1],\n",
       "       [67, 66,  0],\n",
       "       [67, 66,  0],\n",
       "       [67, 61,  0],\n",
       "       [67, 65,  0],\n",
       "       [68, 67,  0],\n",
       "       [68, 68,  0],\n",
       "       [69, 67,  8],\n",
       "       [69, 60,  0],\n",
       "       [69, 65,  0],\n",
       "       [69, 66,  0],\n",
       "       [70, 58,  0],\n",
       "       [70, 58,  4],\n",
       "       [70, 66, 14],\n",
       "       [70, 67,  0],\n",
       "       [70, 68,  0],\n",
       "       [70, 59,  8],\n",
       "       [70, 63,  0],\n",
       "       [71, 68,  2],\n",
       "       [72, 63,  0],\n",
       "       [72, 58,  0],\n",
       "       [72, 64,  0],\n",
       "       [72, 67,  3],\n",
       "       [73, 62,  0],\n",
       "       [73, 68,  0],\n",
       "       [74, 65,  3],\n",
       "       [74, 63,  0],\n",
       "       [75, 62,  1],\n",
       "       [76, 67,  0],\n",
       "       [77, 65,  3],\n",
       "       [78, 65,  1],\n",
       "       [83, 58,  2]], dtype=int64)"
      ]
     },
     "execution_count": 48,
     "metadata": {},
     "output_type": "execute_result"
    }
   ],
   "source": [
    "X"
   ]
  },
  {
   "cell_type": "code",
   "execution_count": 49,
   "metadata": {},
   "outputs": [
    {
     "name": "stderr",
     "output_type": "stream",
     "text": [
      "C:\\Users\\heman\\Anaconda3\\lib\\site-packages\\sklearn\\cross_validation.py:41: DeprecationWarning: This module was deprecated in version 0.18 in favor of the model_selection module into which all the refactored classes and functions are moved. Also note that the interface of the new CV iterators are different from that of this module. This module will be removed in 0.20.\n",
      "  \"This module will be removed in 0.20.\", DeprecationWarning)\n"
     ]
    }
   ],
   "source": [
    "# Splitting the dataset into the Training set and Test set\n",
    "from sklearn.cross_validation import train_test_split\n",
    "X_train, X_test, y_train, y_test = train_test_split(X, y, test_size = 0.2, random_state = 0)"
   ]
  },
  {
   "cell_type": "code",
   "execution_count": 50,
   "metadata": {},
   "outputs": [
    {
     "name": "stderr",
     "output_type": "stream",
     "text": [
      "C:\\Users\\heman\\Anaconda3\\lib\\site-packages\\sklearn\\utils\\validation.py:475: DataConversionWarning: Data with input dtype int64 was converted to float64 by StandardScaler.\n",
      "  warnings.warn(msg, DataConversionWarning)\n"
     ]
    }
   ],
   "source": [
    "# Feature Scaling\n",
    "from sklearn.preprocessing import StandardScaler\n",
    "sc = StandardScaler()\n",
    "X_train = sc.fit_transform(X_train)\n",
    "X_test = sc.transform(X_test)"
   ]
  },
  {
   "cell_type": "code",
   "execution_count": 51,
   "metadata": {},
   "outputs": [],
   "source": [
    "# Statistical Machine Learning approach\n",
    "from sklearn.ensemble import RandomForestClassifier\n",
    "rfc = RandomForestClassifier(n_estimators=500)\n",
    "rfc.fit(X_train, y_train)\n",
    "pred_rfc = rfc.predict(X_test) "
   ]
  },
  {
   "cell_type": "code",
   "execution_count": 52,
   "metadata": {},
   "outputs": [
    {
     "data": {
      "text/plain": [
       "array([[33,  4],\n",
       "       [18,  7]], dtype=int64)"
      ]
     },
     "execution_count": 52,
     "metadata": {},
     "output_type": "execute_result"
    }
   ],
   "source": [
    "# Making the Confusion Matrix for RandomForestClassifier \n",
    "from sklearn.metrics import confusion_matrix\n",
    "cm = confusion_matrix(y_test, pred_rfc)\n",
    "cm"
   ]
  },
  {
   "cell_type": "code",
   "execution_count": 53,
   "metadata": {},
   "outputs": [
    {
     "name": "stdout",
     "output_type": "stream",
     "text": [
      "             precision    recall  f1-score   support\n",
      "\n",
      "          1       0.65      0.89      0.75        37\n",
      "          2       0.64      0.28      0.39        25\n",
      "\n",
      "avg / total       0.64      0.65      0.60        62\n",
      "\n"
     ]
    }
   ],
   "source": [
    "# Model Evaluation for RandomForestClassifier\n",
    "from sklearn.metrics import classification_report\n",
    "print(classification_report(y_test, pred_rfc))"
   ]
  },
  {
   "cell_type": "code",
   "execution_count": 54,
   "metadata": {},
   "outputs": [
    {
     "data": {
      "text/plain": [
       "0.6451612903225806"
      ]
     },
     "execution_count": 54,
     "metadata": {},
     "output_type": "execute_result"
    }
   ],
   "source": [
    "# Accuracy evaluation\n",
    "from sklearn.metrics import accuracy_score\n",
    "cm = accuracy_score(y_test, pred_rfc)\n",
    "cm"
   ]
  },
  {
   "cell_type": "markdown",
   "metadata": {},
   "source": [
    "# Logestic Regression model"
   ]
  },
  {
   "cell_type": "code",
   "execution_count": 55,
   "metadata": {},
   "outputs": [
    {
     "data": {
      "text/plain": [
       "LogisticRegression(C=1.0, class_weight=None, dual=False, fit_intercept=True,\n",
       "          intercept_scaling=1, max_iter=100, multi_class='ovr', n_jobs=1,\n",
       "          penalty='l2', random_state=0, solver='liblinear', tol=0.0001,\n",
       "          verbose=0, warm_start=False)"
      ]
     },
     "execution_count": 55,
     "metadata": {},
     "output_type": "execute_result"
    }
   ],
   "source": [
    "from sklearn.feature_selection import RFE\n",
    "from sklearn.linear_model import LogisticRegression\n",
    "classifier = LogisticRegression(random_state=0)\n",
    "classifier.fit(X_train, y_train)"
   ]
  },
  {
   "cell_type": "code",
   "execution_count": 56,
   "metadata": {},
   "outputs": [],
   "source": [
    "pred_classifier = classifier.predict(X_test) "
   ]
  },
  {
   "cell_type": "code",
   "execution_count": 57,
   "metadata": {},
   "outputs": [
    {
     "data": {
      "text/plain": [
       "array([[33,  4],\n",
       "       [18,  7]], dtype=int64)"
      ]
     },
     "execution_count": 57,
     "metadata": {},
     "output_type": "execute_result"
    }
   ],
   "source": [
    "# Making the Confusion Matrix for RandomForestClassifier \n",
    "from sklearn.metrics import confusion_matrix\n",
    "cm = confusion_matrix(y_test, pred_rfc)\n",
    "cm"
   ]
  },
  {
   "cell_type": "code",
   "execution_count": 58,
   "metadata": {},
   "outputs": [
    {
     "data": {
      "text/plain": [
       "0.6451612903225806"
      ]
     },
     "execution_count": 58,
     "metadata": {},
     "output_type": "execute_result"
    }
   ],
   "source": [
    "# Accuracy evaluation\n",
    "from sklearn.metrics import accuracy_score\n",
    "cm = accuracy_score(y_test, pred_rfc)\n",
    "cm"
   ]
  },
  {
   "cell_type": "code",
   "execution_count": null,
   "metadata": {},
   "outputs": [],
   "source": []
  }
 ],
 "metadata": {
  "colab": {
   "name": "Exploratory Data Analysis..ipynb",
   "provenance": [],
   "version": "0.3.2"
  },
  "kernelspec": {
   "display_name": "Python 3",
   "language": "python",
   "name": "python3"
  },
  "language_info": {
   "codemirror_mode": {
    "name": "ipython",
    "version": 3
   },
   "file_extension": ".py",
   "mimetype": "text/x-python",
   "name": "python",
   "nbconvert_exporter": "python",
   "pygments_lexer": "ipython3",
   "version": "3.6.4"
  }
 },
 "nbformat": 4,
 "nbformat_minor": 1
}
